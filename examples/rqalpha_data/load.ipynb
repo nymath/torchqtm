{
 "cells": [
  {
   "cell_type": "code",
   "execution_count": 37,
   "metadata": {
    "collapsed": true
   },
   "outputs": [],
   "source": [
    "import pandas as pd\n",
    "import numpy as np\n",
    "import h5py\n",
    "import os\n",
    "import sys"
   ]
  },
  {
   "cell_type": "code",
   "execution_count": 12,
   "outputs": [],
   "source": [
    "bundle_path = os.path.expanduser('~') + '/.rqalpha/bundle'"
   ],
   "metadata": {
    "collapsed": false
   }
  },
  {
   "cell_type": "code",
   "execution_count": 13,
   "outputs": [
    {
     "ename": "FileNotFoundError",
     "evalue": "[Errno 2] Unable to open file (unable to open file: name = '~/.rqalpha/bundle/stocks.h5', errno = 2, error message = 'No such file or directory', flags = 0, o_flags = 0)",
     "output_type": "error",
     "traceback": [
      "\u001B[0;31m---------------------------------------------------------------------------\u001B[0m",
      "\u001B[0;31mFileNotFoundError\u001B[0m                         Traceback (most recent call last)",
      "\u001B[0;32m/var/folders/31/rx49cg9n64z7rn2vk4yd8d740000gn/T/ipykernel_586/448219060.py\u001B[0m in \u001B[0;36m<module>\u001B[0;34m\u001B[0m\n\u001B[0;32m----> 1\u001B[0;31m \u001B[0;32mwith\u001B[0m \u001B[0mh5py\u001B[0m\u001B[0;34m.\u001B[0m\u001B[0mFile\u001B[0m\u001B[0;34m(\u001B[0m\u001B[0;34m'~/.rqalpha/bundle/stocks.h5'\u001B[0m\u001B[0;34m,\u001B[0m \u001B[0;34m'r'\u001B[0m\u001B[0;34m)\u001B[0m \u001B[0;32mas\u001B[0m \u001B[0mf\u001B[0m\u001B[0;34m:\u001B[0m\u001B[0;34m\u001B[0m\u001B[0;34m\u001B[0m\u001B[0m\n\u001B[0m\u001B[1;32m      2\u001B[0m     \u001B[0maa\u001B[0m \u001B[0;34m=\u001B[0m \u001B[0mf\u001B[0m\u001B[0;34m.\u001B[0m\u001B[0mread\u001B[0m\u001B[0;34m(\u001B[0m\u001B[0;34m'./'\u001B[0m\u001B[0;34m)\u001B[0m\u001B[0;34m\u001B[0m\u001B[0;34m\u001B[0m\u001B[0m\n",
      "\u001B[0;32m~/opt/anaconda3/lib/python3.9/site-packages/h5py/_hl/files.py\u001B[0m in \u001B[0;36m__init__\u001B[0;34m(self, name, mode, driver, libver, userblock_size, swmr, rdcc_nslots, rdcc_nbytes, rdcc_w0, track_order, fs_strategy, fs_persist, fs_threshold, fs_page_size, page_buf_size, min_meta_keep, min_raw_keep, locking, alignment_threshold, alignment_interval, meta_block_size, **kwds)\u001B[0m\n\u001B[1;32m    565\u001B[0m                                  \u001B[0mfs_persist\u001B[0m\u001B[0;34m=\u001B[0m\u001B[0mfs_persist\u001B[0m\u001B[0;34m,\u001B[0m \u001B[0mfs_threshold\u001B[0m\u001B[0;34m=\u001B[0m\u001B[0mfs_threshold\u001B[0m\u001B[0;34m,\u001B[0m\u001B[0;34m\u001B[0m\u001B[0;34m\u001B[0m\u001B[0m\n\u001B[1;32m    566\u001B[0m                                  fs_page_size=fs_page_size)\n\u001B[0;32m--> 567\u001B[0;31m                 \u001B[0mfid\u001B[0m \u001B[0;34m=\u001B[0m \u001B[0mmake_fid\u001B[0m\u001B[0;34m(\u001B[0m\u001B[0mname\u001B[0m\u001B[0;34m,\u001B[0m \u001B[0mmode\u001B[0m\u001B[0;34m,\u001B[0m \u001B[0muserblock_size\u001B[0m\u001B[0;34m,\u001B[0m \u001B[0mfapl\u001B[0m\u001B[0;34m,\u001B[0m \u001B[0mfcpl\u001B[0m\u001B[0;34m,\u001B[0m \u001B[0mswmr\u001B[0m\u001B[0;34m=\u001B[0m\u001B[0mswmr\u001B[0m\u001B[0;34m)\u001B[0m\u001B[0;34m\u001B[0m\u001B[0;34m\u001B[0m\u001B[0m\n\u001B[0m\u001B[1;32m    568\u001B[0m \u001B[0;34m\u001B[0m\u001B[0m\n\u001B[1;32m    569\u001B[0m             \u001B[0;32mif\u001B[0m \u001B[0misinstance\u001B[0m\u001B[0;34m(\u001B[0m\u001B[0mlibver\u001B[0m\u001B[0;34m,\u001B[0m \u001B[0mtuple\u001B[0m\u001B[0;34m)\u001B[0m\u001B[0;34m:\u001B[0m\u001B[0;34m\u001B[0m\u001B[0;34m\u001B[0m\u001B[0m\n",
      "\u001B[0;32m~/opt/anaconda3/lib/python3.9/site-packages/h5py/_hl/files.py\u001B[0m in \u001B[0;36mmake_fid\u001B[0;34m(name, mode, userblock_size, fapl, fcpl, swmr)\u001B[0m\n\u001B[1;32m    229\u001B[0m         \u001B[0;32mif\u001B[0m \u001B[0mswmr\u001B[0m \u001B[0;32mand\u001B[0m \u001B[0mswmr_support\u001B[0m\u001B[0;34m:\u001B[0m\u001B[0;34m\u001B[0m\u001B[0;34m\u001B[0m\u001B[0m\n\u001B[1;32m    230\u001B[0m             \u001B[0mflags\u001B[0m \u001B[0;34m|=\u001B[0m \u001B[0mh5f\u001B[0m\u001B[0;34m.\u001B[0m\u001B[0mACC_SWMR_READ\u001B[0m\u001B[0;34m\u001B[0m\u001B[0;34m\u001B[0m\u001B[0m\n\u001B[0;32m--> 231\u001B[0;31m         \u001B[0mfid\u001B[0m \u001B[0;34m=\u001B[0m \u001B[0mh5f\u001B[0m\u001B[0;34m.\u001B[0m\u001B[0mopen\u001B[0m\u001B[0;34m(\u001B[0m\u001B[0mname\u001B[0m\u001B[0;34m,\u001B[0m \u001B[0mflags\u001B[0m\u001B[0;34m,\u001B[0m \u001B[0mfapl\u001B[0m\u001B[0;34m=\u001B[0m\u001B[0mfapl\u001B[0m\u001B[0;34m)\u001B[0m\u001B[0;34m\u001B[0m\u001B[0;34m\u001B[0m\u001B[0m\n\u001B[0m\u001B[1;32m    232\u001B[0m     \u001B[0;32melif\u001B[0m \u001B[0mmode\u001B[0m \u001B[0;34m==\u001B[0m \u001B[0;34m'r+'\u001B[0m\u001B[0;34m:\u001B[0m\u001B[0;34m\u001B[0m\u001B[0;34m\u001B[0m\u001B[0m\n\u001B[1;32m    233\u001B[0m         \u001B[0mfid\u001B[0m \u001B[0;34m=\u001B[0m \u001B[0mh5f\u001B[0m\u001B[0;34m.\u001B[0m\u001B[0mopen\u001B[0m\u001B[0;34m(\u001B[0m\u001B[0mname\u001B[0m\u001B[0;34m,\u001B[0m \u001B[0mh5f\u001B[0m\u001B[0;34m.\u001B[0m\u001B[0mACC_RDWR\u001B[0m\u001B[0;34m,\u001B[0m \u001B[0mfapl\u001B[0m\u001B[0;34m=\u001B[0m\u001B[0mfapl\u001B[0m\u001B[0;34m)\u001B[0m\u001B[0;34m\u001B[0m\u001B[0;34m\u001B[0m\u001B[0m\n",
      "\u001B[0;32mh5py/_objects.pyx\u001B[0m in \u001B[0;36mh5py._objects.with_phil.wrapper\u001B[0;34m()\u001B[0m\n",
      "\u001B[0;32mh5py/_objects.pyx\u001B[0m in \u001B[0;36mh5py._objects.with_phil.wrapper\u001B[0;34m()\u001B[0m\n",
      "\u001B[0;32mh5py/h5f.pyx\u001B[0m in \u001B[0;36mh5py.h5f.open\u001B[0;34m()\u001B[0m\n",
      "\u001B[0;31mFileNotFoundError\u001B[0m: [Errno 2] Unable to open file (unable to open file: name = '~/.rqalpha/bundle/stocks.h5', errno = 2, error message = 'No such file or directory', flags = 0, o_flags = 0)"
     ]
    }
   ],
   "source": [
    "with h5py.File('~/.rqalpha/bundle/stocks.h5', 'r') as f:\n",
    "    aa = f.read('./')"
   ],
   "metadata": {
    "collapsed": false
   }
  },
  {
   "cell_type": "code",
   "execution_count": 15,
   "outputs": [
    {
     "ename": "NameError",
     "evalue": "name 'f' is not defined",
     "output_type": "error",
     "traceback": [
      "\u001B[0;31m---------------------------------------------------------------------------\u001B[0m",
      "\u001B[0;31mNameError\u001B[0m                                 Traceback (most recent call last)",
      "\u001B[0;32m/var/folders/31/rx49cg9n64z7rn2vk4yd8d740000gn/T/ipykernel_586/1661727817.py\u001B[0m in \u001B[0;36m<module>\u001B[0;34m\u001B[0m\n\u001B[0;32m----> 1\u001B[0;31m \u001B[0mf\u001B[0m\u001B[0;34m.\u001B[0m\u001B[0mclose\u001B[0m\u001B[0;34m(\u001B[0m\u001B[0;34m)\u001B[0m\u001B[0;34m\u001B[0m\u001B[0;34m\u001B[0m\u001B[0m\n\u001B[0m",
      "\u001B[0;31mNameError\u001B[0m: name 'f' is not defined"
     ]
    }
   ],
   "source": [
    "f.close()"
   ],
   "metadata": {
    "collapsed": false
   }
  },
  {
   "cell_type": "code",
   "execution_count": 17,
   "outputs": [],
   "source": [
    "f = h5py.File('/Users/nymath/.rqalpha/bundle/stocks.h5', 'r')"
   ],
   "metadata": {
    "collapsed": false
   }
  },
  {
   "cell_type": "code",
   "execution_count": 36,
   "outputs": [
    {
     "data": {
      "text/plain": "array([(20050104000000, 6.59, 6.52, 6.59, 6.46, 7.25, 5.93, 1760832., 11465602.88),\n       (20050105000000, 6.52, 6.46, 6.55, 6.35, 7.17, 5.87, 3222144., 20718558.56)],\n      dtype=[('datetime', '<i8'), ('open', '<f8'), ('close', '<f8'), ('high', '<f8'), ('low', '<f8'), ('limit_up', '<f8'), ('limit_down', '<f8'), ('volume', '<f8'), ('total_turnover', '<f8')])"
     },
     "execution_count": 36,
     "metadata": {},
     "output_type": "execute_result"
    }
   ],
   "source": [
    "# obtain the keys of the h5 file\n",
    "f.keys()\n",
    "f.get('000001.XSHE').__getitem__(slice(0, 2, None))"
   ],
   "metadata": {
    "collapsed": false
   }
  },
  {
   "cell_type": "code",
   "execution_count": 43,
   "outputs": [],
   "source": [
    "data = f.get('000001.XSHE')[:]"
   ],
   "metadata": {
    "collapsed": false
   }
  },
  {
   "cell_type": "code",
   "execution_count": 55,
   "outputs": [],
   "source": [
    "data2 = f.get('000002.XSHE')[:]"
   ],
   "metadata": {
    "collapsed": false
   }
  },
  {
   "cell_type": "code",
   "execution_count": 44,
   "outputs": [
    {
     "data": {
      "text/plain": "0.30724334716796875"
     },
     "execution_count": 44,
     "metadata": {},
     "output_type": "execute_result"
    }
   ],
   "source": [
    "sys.getsizeof(data) / 1024 ** 2"
   ],
   "metadata": {
    "collapsed": false
   }
  },
  {
   "cell_type": "code",
   "execution_count": 61,
   "outputs": [],
   "source": [
    "data = pd.DataFrame(data)\n",
    "data2 = pd.DataFrame(data2)"
   ],
   "metadata": {
    "collapsed": false
   }
  },
  {
   "cell_type": "code",
   "execution_count": 62,
   "outputs": [
    {
     "data": {
      "text/plain": "            datetime   open  close   high    low  limit_up  limit_down  \\\n0     20050104000000   6.59   6.52   6.59   6.46      7.25        5.93   \n1     20050105000000   6.52   6.46   6.55   6.35      7.17        5.87   \n2     20050106000000   6.50   6.52   6.59   6.45      7.11        5.81   \n3     20050107000000   6.58   6.51   6.60   6.46      7.17        5.87   \n4     20050110000000   6.51   6.59   6.59   6.37      7.16        5.86   \n...              ...    ...    ...    ...    ...       ...         ...   \n4468  20230526000000  11.93  12.10  12.13  11.84     13.12       10.74   \n4469  20230529000000  12.11  11.98  12.13  11.95     13.31       10.89   \n4470  20230530000000  11.98  11.87  11.99  11.80     13.18       10.78   \n4471  20230531000000  11.82  11.60  11.84  11.58     13.06       10.68   \n4472  20230601000000  11.60  11.59  11.68  11.50     12.76       10.44   \n\n           volume  total_turnover  \n0       1760832.0    1.146560e+07  \n1       3222144.0    2.071856e+07  \n2       2666413.0    1.733384e+07  \n3       1886151.0    1.230285e+07  \n4       2632055.0    1.711150e+07  \n...           ...             ...  \n4468   51142864.0    6.137729e+08  \n4469   56607382.0    6.802756e+08  \n4470   76399692.0    9.063164e+08  \n4471  117958671.0    1.376758e+09  \n4472   74302293.0    8.616465e+08  \n\n[4473 rows x 9 columns]",
      "text/html": "<div>\n<style scoped>\n    .dataframe tbody tr th:only-of-type {\n        vertical-align: middle;\n    }\n\n    .dataframe tbody tr th {\n        vertical-align: top;\n    }\n\n    .dataframe thead th {\n        text-align: right;\n    }\n</style>\n<table border=\"1\" class=\"dataframe\">\n  <thead>\n    <tr style=\"text-align: right;\">\n      <th></th>\n      <th>datetime</th>\n      <th>open</th>\n      <th>close</th>\n      <th>high</th>\n      <th>low</th>\n      <th>limit_up</th>\n      <th>limit_down</th>\n      <th>volume</th>\n      <th>total_turnover</th>\n    </tr>\n  </thead>\n  <tbody>\n    <tr>\n      <th>0</th>\n      <td>20050104000000</td>\n      <td>6.59</td>\n      <td>6.52</td>\n      <td>6.59</td>\n      <td>6.46</td>\n      <td>7.25</td>\n      <td>5.93</td>\n      <td>1760832.0</td>\n      <td>1.146560e+07</td>\n    </tr>\n    <tr>\n      <th>1</th>\n      <td>20050105000000</td>\n      <td>6.52</td>\n      <td>6.46</td>\n      <td>6.55</td>\n      <td>6.35</td>\n      <td>7.17</td>\n      <td>5.87</td>\n      <td>3222144.0</td>\n      <td>2.071856e+07</td>\n    </tr>\n    <tr>\n      <th>2</th>\n      <td>20050106000000</td>\n      <td>6.50</td>\n      <td>6.52</td>\n      <td>6.59</td>\n      <td>6.45</td>\n      <td>7.11</td>\n      <td>5.81</td>\n      <td>2666413.0</td>\n      <td>1.733384e+07</td>\n    </tr>\n    <tr>\n      <th>3</th>\n      <td>20050107000000</td>\n      <td>6.58</td>\n      <td>6.51</td>\n      <td>6.60</td>\n      <td>6.46</td>\n      <td>7.17</td>\n      <td>5.87</td>\n      <td>1886151.0</td>\n      <td>1.230285e+07</td>\n    </tr>\n    <tr>\n      <th>4</th>\n      <td>20050110000000</td>\n      <td>6.51</td>\n      <td>6.59</td>\n      <td>6.59</td>\n      <td>6.37</td>\n      <td>7.16</td>\n      <td>5.86</td>\n      <td>2632055.0</td>\n      <td>1.711150e+07</td>\n    </tr>\n    <tr>\n      <th>...</th>\n      <td>...</td>\n      <td>...</td>\n      <td>...</td>\n      <td>...</td>\n      <td>...</td>\n      <td>...</td>\n      <td>...</td>\n      <td>...</td>\n      <td>...</td>\n    </tr>\n    <tr>\n      <th>4468</th>\n      <td>20230526000000</td>\n      <td>11.93</td>\n      <td>12.10</td>\n      <td>12.13</td>\n      <td>11.84</td>\n      <td>13.12</td>\n      <td>10.74</td>\n      <td>51142864.0</td>\n      <td>6.137729e+08</td>\n    </tr>\n    <tr>\n      <th>4469</th>\n      <td>20230529000000</td>\n      <td>12.11</td>\n      <td>11.98</td>\n      <td>12.13</td>\n      <td>11.95</td>\n      <td>13.31</td>\n      <td>10.89</td>\n      <td>56607382.0</td>\n      <td>6.802756e+08</td>\n    </tr>\n    <tr>\n      <th>4470</th>\n      <td>20230530000000</td>\n      <td>11.98</td>\n      <td>11.87</td>\n      <td>11.99</td>\n      <td>11.80</td>\n      <td>13.18</td>\n      <td>10.78</td>\n      <td>76399692.0</td>\n      <td>9.063164e+08</td>\n    </tr>\n    <tr>\n      <th>4471</th>\n      <td>20230531000000</td>\n      <td>11.82</td>\n      <td>11.60</td>\n      <td>11.84</td>\n      <td>11.58</td>\n      <td>13.06</td>\n      <td>10.68</td>\n      <td>117958671.0</td>\n      <td>1.376758e+09</td>\n    </tr>\n    <tr>\n      <th>4472</th>\n      <td>20230601000000</td>\n      <td>11.60</td>\n      <td>11.59</td>\n      <td>11.68</td>\n      <td>11.50</td>\n      <td>12.76</td>\n      <td>10.44</td>\n      <td>74302293.0</td>\n      <td>8.616465e+08</td>\n    </tr>\n  </tbody>\n</table>\n<p>4473 rows × 9 columns</p>\n</div>"
     },
     "execution_count": 62,
     "metadata": {},
     "output_type": "execute_result"
    }
   ],
   "source": [
    "data"
   ],
   "metadata": {
    "collapsed": false
   }
  },
  {
   "cell_type": "code",
   "execution_count": 63,
   "outputs": [
    {
     "data": {
      "text/plain": "            datetime  open_x  close_x  high_x  low_x  limit_up_x  \\\n0     20050104000000    6.59     6.52    6.59   6.46        7.25   \n1     20050105000000    6.52     6.46    6.55   6.35        7.17   \n2     20050106000000    6.50     6.52    6.59   6.45        7.11   \n3     20050107000000    6.58     6.51    6.60   6.46        7.17   \n4     20050110000000    6.51     6.59    6.59   6.37        7.16   \n...              ...     ...      ...     ...    ...         ...   \n4468  20230526000000   11.93    12.10   12.13  11.84       13.12   \n4469  20230529000000   12.11    11.98   12.13  11.95       13.31   \n4470  20230530000000   11.98    11.87   11.99  11.80       13.18   \n4471  20230531000000   11.82    11.60   11.84  11.58       13.06   \n4472  20230601000000   11.60    11.59   11.68  11.50       12.76   \n\n      limit_down_x     volume_x  total_turnover_x  open_y  close_y  high_y  \\\n0             5.93    1760832.0      1.146560e+07    5.22     5.27    5.31   \n1             5.87    3222144.0      2.071856e+07    5.25     5.46    5.47   \n2             5.81    2666413.0      1.733384e+07    5.46     5.43    5.46   \n3             5.87    1886151.0      1.230285e+07    5.41     5.48    5.60   \n4             5.86    2632055.0      1.711150e+07    5.48     5.45    5.55   \n...            ...          ...               ...     ...      ...     ...   \n4468         10.74   51142864.0      6.137729e+08   14.14    14.21   14.24   \n4469         10.89   56607382.0      6.802756e+08   14.17    14.03   14.18   \n4470         10.78   76399692.0      9.063164e+08   13.99    14.36   14.36   \n4471         10.68  117958671.0      1.376758e+09   14.25    14.24   14.33   \n4472         10.44   74302293.0      8.616465e+08   14.14    14.00   14.20   \n\n      low_y  limit_up_y  limit_down_y    volume_y  total_turnover_y  \n0      5.17        5.79          4.73  10353811.0      5.451423e+07  \n1      5.24        5.80          4.74  17589854.0      9.478190e+07  \n2      5.34        6.01          4.91  18421579.0      9.925340e+07  \n3      5.38        5.97          4.89  17722258.0      9.756404e+07  \n4      5.43        6.03          4.93   7090193.0      3.883998e+07  \n...     ...         ...           ...         ...               ...  \n4468  14.01       15.61         12.77  40775357.0      5.767348e+08  \n4469  14.00       15.63         12.79  44301886.0      6.224551e+08  \n4470  13.67       15.43         12.63  88196850.0      1.230122e+09  \n4471  14.06       15.80         12.92  45125137.0      6.389365e+08  \n4472  13.98       15.66         12.82  46662808.0      6.566527e+08  \n\n[4473 rows x 17 columns]",
      "text/html": "<div>\n<style scoped>\n    .dataframe tbody tr th:only-of-type {\n        vertical-align: middle;\n    }\n\n    .dataframe tbody tr th {\n        vertical-align: top;\n    }\n\n    .dataframe thead th {\n        text-align: right;\n    }\n</style>\n<table border=\"1\" class=\"dataframe\">\n  <thead>\n    <tr style=\"text-align: right;\">\n      <th></th>\n      <th>datetime</th>\n      <th>open_x</th>\n      <th>close_x</th>\n      <th>high_x</th>\n      <th>low_x</th>\n      <th>limit_up_x</th>\n      <th>limit_down_x</th>\n      <th>volume_x</th>\n      <th>total_turnover_x</th>\n      <th>open_y</th>\n      <th>close_y</th>\n      <th>high_y</th>\n      <th>low_y</th>\n      <th>limit_up_y</th>\n      <th>limit_down_y</th>\n      <th>volume_y</th>\n      <th>total_turnover_y</th>\n    </tr>\n  </thead>\n  <tbody>\n    <tr>\n      <th>0</th>\n      <td>20050104000000</td>\n      <td>6.59</td>\n      <td>6.52</td>\n      <td>6.59</td>\n      <td>6.46</td>\n      <td>7.25</td>\n      <td>5.93</td>\n      <td>1760832.0</td>\n      <td>1.146560e+07</td>\n      <td>5.22</td>\n      <td>5.27</td>\n      <td>5.31</td>\n      <td>5.17</td>\n      <td>5.79</td>\n      <td>4.73</td>\n      <td>10353811.0</td>\n      <td>5.451423e+07</td>\n    </tr>\n    <tr>\n      <th>1</th>\n      <td>20050105000000</td>\n      <td>6.52</td>\n      <td>6.46</td>\n      <td>6.55</td>\n      <td>6.35</td>\n      <td>7.17</td>\n      <td>5.87</td>\n      <td>3222144.0</td>\n      <td>2.071856e+07</td>\n      <td>5.25</td>\n      <td>5.46</td>\n      <td>5.47</td>\n      <td>5.24</td>\n      <td>5.80</td>\n      <td>4.74</td>\n      <td>17589854.0</td>\n      <td>9.478190e+07</td>\n    </tr>\n    <tr>\n      <th>2</th>\n      <td>20050106000000</td>\n      <td>6.50</td>\n      <td>6.52</td>\n      <td>6.59</td>\n      <td>6.45</td>\n      <td>7.11</td>\n      <td>5.81</td>\n      <td>2666413.0</td>\n      <td>1.733384e+07</td>\n      <td>5.46</td>\n      <td>5.43</td>\n      <td>5.46</td>\n      <td>5.34</td>\n      <td>6.01</td>\n      <td>4.91</td>\n      <td>18421579.0</td>\n      <td>9.925340e+07</td>\n    </tr>\n    <tr>\n      <th>3</th>\n      <td>20050107000000</td>\n      <td>6.58</td>\n      <td>6.51</td>\n      <td>6.60</td>\n      <td>6.46</td>\n      <td>7.17</td>\n      <td>5.87</td>\n      <td>1886151.0</td>\n      <td>1.230285e+07</td>\n      <td>5.41</td>\n      <td>5.48</td>\n      <td>5.60</td>\n      <td>5.38</td>\n      <td>5.97</td>\n      <td>4.89</td>\n      <td>17722258.0</td>\n      <td>9.756404e+07</td>\n    </tr>\n    <tr>\n      <th>4</th>\n      <td>20050110000000</td>\n      <td>6.51</td>\n      <td>6.59</td>\n      <td>6.59</td>\n      <td>6.37</td>\n      <td>7.16</td>\n      <td>5.86</td>\n      <td>2632055.0</td>\n      <td>1.711150e+07</td>\n      <td>5.48</td>\n      <td>5.45</td>\n      <td>5.55</td>\n      <td>5.43</td>\n      <td>6.03</td>\n      <td>4.93</td>\n      <td>7090193.0</td>\n      <td>3.883998e+07</td>\n    </tr>\n    <tr>\n      <th>...</th>\n      <td>...</td>\n      <td>...</td>\n      <td>...</td>\n      <td>...</td>\n      <td>...</td>\n      <td>...</td>\n      <td>...</td>\n      <td>...</td>\n      <td>...</td>\n      <td>...</td>\n      <td>...</td>\n      <td>...</td>\n      <td>...</td>\n      <td>...</td>\n      <td>...</td>\n      <td>...</td>\n      <td>...</td>\n    </tr>\n    <tr>\n      <th>4468</th>\n      <td>20230526000000</td>\n      <td>11.93</td>\n      <td>12.10</td>\n      <td>12.13</td>\n      <td>11.84</td>\n      <td>13.12</td>\n      <td>10.74</td>\n      <td>51142864.0</td>\n      <td>6.137729e+08</td>\n      <td>14.14</td>\n      <td>14.21</td>\n      <td>14.24</td>\n      <td>14.01</td>\n      <td>15.61</td>\n      <td>12.77</td>\n      <td>40775357.0</td>\n      <td>5.767348e+08</td>\n    </tr>\n    <tr>\n      <th>4469</th>\n      <td>20230529000000</td>\n      <td>12.11</td>\n      <td>11.98</td>\n      <td>12.13</td>\n      <td>11.95</td>\n      <td>13.31</td>\n      <td>10.89</td>\n      <td>56607382.0</td>\n      <td>6.802756e+08</td>\n      <td>14.17</td>\n      <td>14.03</td>\n      <td>14.18</td>\n      <td>14.00</td>\n      <td>15.63</td>\n      <td>12.79</td>\n      <td>44301886.0</td>\n      <td>6.224551e+08</td>\n    </tr>\n    <tr>\n      <th>4470</th>\n      <td>20230530000000</td>\n      <td>11.98</td>\n      <td>11.87</td>\n      <td>11.99</td>\n      <td>11.80</td>\n      <td>13.18</td>\n      <td>10.78</td>\n      <td>76399692.0</td>\n      <td>9.063164e+08</td>\n      <td>13.99</td>\n      <td>14.36</td>\n      <td>14.36</td>\n      <td>13.67</td>\n      <td>15.43</td>\n      <td>12.63</td>\n      <td>88196850.0</td>\n      <td>1.230122e+09</td>\n    </tr>\n    <tr>\n      <th>4471</th>\n      <td>20230531000000</td>\n      <td>11.82</td>\n      <td>11.60</td>\n      <td>11.84</td>\n      <td>11.58</td>\n      <td>13.06</td>\n      <td>10.68</td>\n      <td>117958671.0</td>\n      <td>1.376758e+09</td>\n      <td>14.25</td>\n      <td>14.24</td>\n      <td>14.33</td>\n      <td>14.06</td>\n      <td>15.80</td>\n      <td>12.92</td>\n      <td>45125137.0</td>\n      <td>6.389365e+08</td>\n    </tr>\n    <tr>\n      <th>4472</th>\n      <td>20230601000000</td>\n      <td>11.60</td>\n      <td>11.59</td>\n      <td>11.68</td>\n      <td>11.50</td>\n      <td>12.76</td>\n      <td>10.44</td>\n      <td>74302293.0</td>\n      <td>8.616465e+08</td>\n      <td>14.14</td>\n      <td>14.00</td>\n      <td>14.20</td>\n      <td>13.98</td>\n      <td>15.66</td>\n      <td>12.82</td>\n      <td>46662808.0</td>\n      <td>6.566527e+08</td>\n    </tr>\n  </tbody>\n</table>\n<p>4473 rows × 17 columns</p>\n</div>"
     },
     "execution_count": 63,
     "metadata": {},
     "output_type": "execute_result"
    }
   ],
   "source": [
    "pd.merge(data, data2, on='datetime', how='outer')"
   ],
   "metadata": {
    "collapsed": false
   }
  },
  {
   "cell_type": "code",
   "execution_count": null,
   "outputs": [],
   "source": [],
   "metadata": {
    "collapsed": false
   }
  },
  {
   "cell_type": "code",
   "execution_count": null,
   "outputs": [],
   "source": [],
   "metadata": {
    "collapsed": false
   }
  },
  {
   "cell_type": "code",
   "execution_count": null,
   "outputs": [],
   "source": [],
   "metadata": {
    "collapsed": false
   }
  },
  {
   "cell_type": "code",
   "execution_count": null,
   "outputs": [],
   "source": [],
   "metadata": {
    "collapsed": false
   }
  },
  {
   "cell_type": "code",
   "execution_count": null,
   "outputs": [],
   "source": [],
   "metadata": {
    "collapsed": false
   }
  },
  {
   "cell_type": "code",
   "execution_count": null,
   "outputs": [],
   "source": [
    "def h5_file(path, *args, mode=\"r\", **kwargs):\n",
    "    try:\n",
    "        h5 = h5py.File(_file_path(path), *args, mode=mode, **kwargs)\n",
    "    except OSError as e:\n",
    "        raise RuntimeError(_(\n",
    "            \"open data bundle failed, you can remove {} and try to regenerate bundle: {}\"\n",
    "        ).format(path, e))\n",
    "    else:\n",
    "        try:\n",
    "            yield h5\n",
    "        finally:\n",
    "            h5.close()"
   ],
   "metadata": {
    "collapsed": false
   }
  },
  {
   "cell_type": "code",
   "execution_count": null,
   "outputs": [],
   "source": [],
   "metadata": {
    "collapsed": false
   }
  },
  {
   "cell_type": "code",
   "execution_count": null,
   "outputs": [],
   "source": [],
   "metadata": {
    "collapsed": false
   }
  },
  {
   "cell_type": "code",
   "execution_count": null,
   "outputs": [],
   "source": [],
   "metadata": {
    "collapsed": false
   }
  },
  {
   "cell_type": "code",
   "execution_count": null,
   "outputs": [],
   "source": [],
   "metadata": {
    "collapsed": false
   }
  }
 ],
 "metadata": {
  "kernelspec": {
   "display_name": "Python 3",
   "language": "python",
   "name": "python3"
  },
  "language_info": {
   "codemirror_mode": {
    "name": "ipython",
    "version": 2
   },
   "file_extension": ".py",
   "mimetype": "text/x-python",
   "name": "python",
   "nbconvert_exporter": "python",
   "pygments_lexer": "ipython2",
   "version": "2.7.6"
  }
 },
 "nbformat": 4,
 "nbformat_minor": 0
}
