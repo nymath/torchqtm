{
 "cells": [
  {
   "cell_type": "code",
   "execution_count": 2,
   "metadata": {
    "collapsed": true
   },
   "outputs": [],
   "source": [
    "import pandas as pd\n",
    "import numpy as np"
   ]
  },
  {
   "cell_type": "code",
   "execution_count": 63,
   "outputs": [],
   "source": [
    "import datetime"
   ],
   "metadata": {
    "collapsed": false
   }
  },
  {
   "cell_type": "markdown",
   "source": [
    "## Hierarchical Indexing"
   ],
   "metadata": {
    "collapsed": false
   }
  },
  {
   "cell_type": "code",
   "execution_count": 3,
   "outputs": [],
   "source": [
    "index = [['a', 'a', 'a', 'b', 'b', 'c', 'c', 'd', 'd'],\n",
    "         [1, 2, 3, 1, 3, 1, 2, 2, 3]]\n",
    "data = pd.Series(np.random.randn(9),\n",
    "                 index=index)"
   ],
   "metadata": {
    "collapsed": false
   }
  },
  {
   "cell_type": "code",
   "execution_count": 5,
   "outputs": [
    {
     "data": {
      "text/plain": "a  1    0.480133\n   2   -0.976361\n   3   -1.572984\nb  1    0.111526\n   3   -1.391256\nc  1   -0.892072\n   2    0.645566\nd  2   -0.732172\n   3    0.725784\ndtype: float64"
     },
     "execution_count": 5,
     "metadata": {},
     "output_type": "execute_result"
    }
   ],
   "source": [
    "data"
   ],
   "metadata": {
    "collapsed": false
   }
  },
  {
   "cell_type": "code",
   "execution_count": 8,
   "outputs": [
    {
     "data": {
      "text/plain": "MultiIndex([('a', 1),\n            ('a', 2),\n            ('a', 3),\n            ('b', 1),\n            ('b', 3),\n            ('c', 1),\n            ('c', 2),\n            ('d', 2),\n            ('d', 3)],\n           )"
     },
     "execution_count": 8,
     "metadata": {},
     "output_type": "execute_result"
    }
   ],
   "source": [
    "data.index # MultiIndex"
   ],
   "metadata": {
    "collapsed": false
   }
  },
  {
   "cell_type": "code",
   "execution_count": 23,
   "outputs": [
    {
     "data": {
      "text/plain": "b  1    0.111526\ndtype: float64"
     },
     "execution_count": 23,
     "metadata": {},
     "output_type": "execute_result"
    }
   ],
   "source": [
    "data.loc[slice('b', 'b', None), slice(1, 1, None)]"
   ],
   "metadata": {
    "collapsed": false
   }
  },
  {
   "cell_type": "code",
   "execution_count": 24,
   "outputs": [
    {
     "data": {
      "text/plain": "a   -0.976361\nc    0.645566\nd   -0.732172\ndtype: float64"
     },
     "execution_count": 24,
     "metadata": {},
     "output_type": "execute_result"
    }
   ],
   "source": [
    "data.loc[:, 2]"
   ],
   "metadata": {
    "collapsed": false
   }
  },
  {
   "cell_type": "code",
   "execution_count": 28,
   "outputs": [],
   "source": [
    "wide_data = data.unstack()"
   ],
   "metadata": {
    "collapsed": false
   }
  },
  {
   "cell_type": "code",
   "execution_count": 32,
   "outputs": [
    {
     "data": {
      "text/plain": "          1         2         3\na  0.480133 -0.976361 -1.572984\nb  0.111526       NaN -1.391256\nc -0.892072  0.645566       NaN\nd       NaN -0.732172  0.725784",
      "text/html": "<div>\n<style scoped>\n    .dataframe tbody tr th:only-of-type {\n        vertical-align: middle;\n    }\n\n    .dataframe tbody tr th {\n        vertical-align: top;\n    }\n\n    .dataframe thead th {\n        text-align: right;\n    }\n</style>\n<table border=\"1\" class=\"dataframe\">\n  <thead>\n    <tr style=\"text-align: right;\">\n      <th></th>\n      <th>1</th>\n      <th>2</th>\n      <th>3</th>\n    </tr>\n  </thead>\n  <tbody>\n    <tr>\n      <th>a</th>\n      <td>0.480133</td>\n      <td>-0.976361</td>\n      <td>-1.572984</td>\n    </tr>\n    <tr>\n      <th>b</th>\n      <td>0.111526</td>\n      <td>NaN</td>\n      <td>-1.391256</td>\n    </tr>\n    <tr>\n      <th>c</th>\n      <td>-0.892072</td>\n      <td>0.645566</td>\n      <td>NaN</td>\n    </tr>\n    <tr>\n      <th>d</th>\n      <td>NaN</td>\n      <td>-0.732172</td>\n      <td>0.725784</td>\n    </tr>\n  </tbody>\n</table>\n</div>"
     },
     "execution_count": 32,
     "metadata": {},
     "output_type": "execute_result"
    }
   ],
   "source": [
    "wide_data"
   ],
   "metadata": {
    "collapsed": false
   }
  },
  {
   "cell_type": "code",
   "execution_count": 33,
   "outputs": [
    {
     "data": {
      "text/plain": "a  1    0.480133\n   2   -0.976361\n   3   -1.572984\nb  1    0.111526\n   3   -1.391256\nc  1   -0.892072\n   2    0.645566\nd  2   -0.732172\n   3    0.725784\ndtype: float64"
     },
     "execution_count": 33,
     "metadata": {},
     "output_type": "execute_result"
    }
   ],
   "source": [
    "wide_data.stack()"
   ],
   "metadata": {
    "collapsed": false
   }
  },
  {
   "cell_type": "code",
   "execution_count": null,
   "outputs": [],
   "source": [],
   "metadata": {
    "collapsed": false
   }
  },
  {
   "cell_type": "code",
   "execution_count": null,
   "outputs": [],
   "source": [],
   "metadata": {
    "collapsed": false
   }
  },
  {
   "cell_type": "markdown",
   "source": [
    "### exercise 2"
   ],
   "metadata": {
    "collapsed": false
   }
  },
  {
   "cell_type": "code",
   "execution_count": 44,
   "outputs": [],
   "source": [
    "dates = ['20100101', '20100101', '20100102', '20100102', '20100102', '20100103', '20100103']"
   ],
   "metadata": {
    "collapsed": false
   }
  },
  {
   "cell_type": "code",
   "execution_count": 49,
   "outputs": [],
   "source": [
    "frame = pd.DataFrame({'trade_date': pd.DatetimeIndex(dates),\n",
    "                      'symbol': ['AAPL', \"AMD\", \"AAPL\", \"AMD\", \"INTEL\", \"AAPL\", \"AMD\"],\n",
    "                      'open': np.random.normal(100, 10, 7),\n",
    "                      'close': np.random.normal(102, 10, 7)})"
   ],
   "metadata": {
    "collapsed": false
   }
  },
  {
   "cell_type": "code",
   "execution_count": 85,
   "outputs": [
    {
     "data": {
      "text/plain": "  trade_date symbol        open       close\n0 2010-01-01   AAPL  103.277643  105.384355\n1 2010-01-01    AMD  114.430775   85.496614\n2 2010-01-02   AAPL  130.264213   96.959235\n3 2010-01-02    AMD   87.339445  104.022293\n4 2010-01-02  INTEL   98.088420  108.082473\n5 2010-01-03   AAPL  108.211164   85.753338\n6 2010-01-03    AMD   97.586595  105.150173",
      "text/html": "<div>\n<style scoped>\n    .dataframe tbody tr th:only-of-type {\n        vertical-align: middle;\n    }\n\n    .dataframe tbody tr th {\n        vertical-align: top;\n    }\n\n    .dataframe thead th {\n        text-align: right;\n    }\n</style>\n<table border=\"1\" class=\"dataframe\">\n  <thead>\n    <tr style=\"text-align: right;\">\n      <th></th>\n      <th>trade_date</th>\n      <th>symbol</th>\n      <th>open</th>\n      <th>close</th>\n    </tr>\n  </thead>\n  <tbody>\n    <tr>\n      <th>0</th>\n      <td>2010-01-01</td>\n      <td>AAPL</td>\n      <td>103.277643</td>\n      <td>105.384355</td>\n    </tr>\n    <tr>\n      <th>1</th>\n      <td>2010-01-01</td>\n      <td>AMD</td>\n      <td>114.430775</td>\n      <td>85.496614</td>\n    </tr>\n    <tr>\n      <th>2</th>\n      <td>2010-01-02</td>\n      <td>AAPL</td>\n      <td>130.264213</td>\n      <td>96.959235</td>\n    </tr>\n    <tr>\n      <th>3</th>\n      <td>2010-01-02</td>\n      <td>AMD</td>\n      <td>87.339445</td>\n      <td>104.022293</td>\n    </tr>\n    <tr>\n      <th>4</th>\n      <td>2010-01-02</td>\n      <td>INTEL</td>\n      <td>98.088420</td>\n      <td>108.082473</td>\n    </tr>\n    <tr>\n      <th>5</th>\n      <td>2010-01-03</td>\n      <td>AAPL</td>\n      <td>108.211164</td>\n      <td>85.753338</td>\n    </tr>\n    <tr>\n      <th>6</th>\n      <td>2010-01-03</td>\n      <td>AMD</td>\n      <td>97.586595</td>\n      <td>105.150173</td>\n    </tr>\n  </tbody>\n</table>\n</div>"
     },
     "execution_count": 85,
     "metadata": {},
     "output_type": "execute_result"
    }
   ],
   "source": [
    "# 通常我们看到的dataframe大概率长这样\n",
    "frame"
   ],
   "metadata": {
    "collapsed": false
   }
  },
  {
   "cell_type": "code",
   "execution_count": 52,
   "outputs": [],
   "source": [
    "# 这时候我们应该使用, set_index, 转换为长表\n",
    "frame_long = frame.set_index(['trade_date', 'symbol'])"
   ],
   "metadata": {
    "collapsed": false
   }
  },
  {
   "cell_type": "code",
   "execution_count": 53,
   "outputs": [
    {
     "data": {
      "text/plain": "                         open       close\ntrade_date symbol                        \n2010-01-01 AAPL    103.277643  105.384355\n           AMD     114.430775   85.496614\n2010-01-02 AAPL    130.264213   96.959235\n           AMD      87.339445  104.022293\n           INTEL    98.088420  108.082473\n2010-01-03 AAPL    108.211164   85.753338\n           AMD      97.586595  105.150173",
      "text/html": "<div>\n<style scoped>\n    .dataframe tbody tr th:only-of-type {\n        vertical-align: middle;\n    }\n\n    .dataframe tbody tr th {\n        vertical-align: top;\n    }\n\n    .dataframe thead th {\n        text-align: right;\n    }\n</style>\n<table border=\"1\" class=\"dataframe\">\n  <thead>\n    <tr style=\"text-align: right;\">\n      <th></th>\n      <th></th>\n      <th>open</th>\n      <th>close</th>\n    </tr>\n    <tr>\n      <th>trade_date</th>\n      <th>symbol</th>\n      <th></th>\n      <th></th>\n    </tr>\n  </thead>\n  <tbody>\n    <tr>\n      <th rowspan=\"2\" valign=\"top\">2010-01-01</th>\n      <th>AAPL</th>\n      <td>103.277643</td>\n      <td>105.384355</td>\n    </tr>\n    <tr>\n      <th>AMD</th>\n      <td>114.430775</td>\n      <td>85.496614</td>\n    </tr>\n    <tr>\n      <th rowspan=\"3\" valign=\"top\">2010-01-02</th>\n      <th>AAPL</th>\n      <td>130.264213</td>\n      <td>96.959235</td>\n    </tr>\n    <tr>\n      <th>AMD</th>\n      <td>87.339445</td>\n      <td>104.022293</td>\n    </tr>\n    <tr>\n      <th>INTEL</th>\n      <td>98.088420</td>\n      <td>108.082473</td>\n    </tr>\n    <tr>\n      <th rowspan=\"2\" valign=\"top\">2010-01-03</th>\n      <th>AAPL</th>\n      <td>108.211164</td>\n      <td>85.753338</td>\n    </tr>\n    <tr>\n      <th>AMD</th>\n      <td>97.586595</td>\n      <td>105.150173</td>\n    </tr>\n  </tbody>\n</table>\n</div>"
     },
     "execution_count": 53,
     "metadata": {},
     "output_type": "execute_result"
    }
   ],
   "source": [
    "frame_long"
   ],
   "metadata": {
    "collapsed": false
   }
  },
  {
   "cell_type": "code",
   "execution_count": 59,
   "outputs": [
    {
     "data": {
      "text/plain": "symbol            AAPL         AMD       INTEL\ntrade_date                                    \n2010-01-01  105.384355   85.496614         NaN\n2010-01-02   96.959235  104.022293  108.082473\n2010-01-03   85.753338  105.150173         NaN",
      "text/html": "<div>\n<style scoped>\n    .dataframe tbody tr th:only-of-type {\n        vertical-align: middle;\n    }\n\n    .dataframe tbody tr th {\n        vertical-align: top;\n    }\n\n    .dataframe thead th {\n        text-align: right;\n    }\n</style>\n<table border=\"1\" class=\"dataframe\">\n  <thead>\n    <tr style=\"text-align: right;\">\n      <th>symbol</th>\n      <th>AAPL</th>\n      <th>AMD</th>\n      <th>INTEL</th>\n    </tr>\n    <tr>\n      <th>trade_date</th>\n      <th></th>\n      <th></th>\n      <th></th>\n    </tr>\n  </thead>\n  <tbody>\n    <tr>\n      <th>2010-01-01</th>\n      <td>105.384355</td>\n      <td>85.496614</td>\n      <td>NaN</td>\n    </tr>\n    <tr>\n      <th>2010-01-02</th>\n      <td>96.959235</td>\n      <td>104.022293</td>\n      <td>108.082473</td>\n    </tr>\n    <tr>\n      <th>2010-01-03</th>\n      <td>85.753338</td>\n      <td>105.150173</td>\n      <td>NaN</td>\n    </tr>\n  </tbody>\n</table>\n</div>"
     },
     "execution_count": 59,
     "metadata": {},
     "output_type": "execute_result"
    }
   ],
   "source": [
    "# 利用unstack(level=1)即可实现向宽表的转换\n",
    "frame_long['close'].unstack(level=1)"
   ],
   "metadata": {
    "collapsed": false
   }
  },
  {
   "cell_type": "code",
   "execution_count": 62,
   "outputs": [
    {
     "data": {
      "text/plain": "Timestamp('2010-01-01 00:00:00')"
     },
     "execution_count": 62,
     "metadata": {},
     "output_type": "execute_result"
    }
   ],
   "source": [
    "pd.Timestamp('20100101 00:00:00')"
   ],
   "metadata": {
    "collapsed": false
   }
  },
  {
   "cell_type": "code",
   "execution_count": 80,
   "outputs": [
    {
     "name": "stdout",
     "output_type": "stream",
     "text": [
      "2010-01-01 00:00:00\n"
     ]
    },
    {
     "data": {
      "text/plain": "datetime.datetime(2010, 1, 1, 0, 0)"
     },
     "execution_count": 80,
     "metadata": {},
     "output_type": "execute_result"
    }
   ],
   "source": [
    "dt = datetime.datetime(year=2010,\n",
    "                  month=1,\n",
    "                  day=1,\n",
    "                  hour=0,\n",
    "                  minute=0,\n",
    "                  second=0)\n",
    "print(dt.strftime('%Y-%m-%d %H:%M:%S'))\n",
    "datetime.datetime.strptime('20100101 00:00:00', '%Y%m%d %H:%M:%S')"
   ],
   "metadata": {
    "collapsed": false
   }
  },
  {
   "cell_type": "code",
   "execution_count": null,
   "outputs": [],
   "source": [],
   "metadata": {
    "collapsed": false
   }
  },
  {
   "cell_type": "markdown",
   "source": [
    "## Enum"
   ],
   "metadata": {
    "collapsed": false
   }
  },
  {
   "cell_type": "code",
   "execution_count": 86,
   "outputs": [],
   "source": [
    "from enum import Enum\n",
    "\n",
    "class Color(Enum):\n",
    "    RED = 1\n",
    "    COLOR = 2\n",
    "    GREEN = 3"
   ],
   "metadata": {
    "collapsed": false
   }
  },
  {
   "cell_type": "code",
   "execution_count": 92,
   "outputs": [
    {
     "data": {
      "text/plain": "1"
     },
     "execution_count": 92,
     "metadata": {},
     "output_type": "execute_result"
    }
   ],
   "source": [
    "Color.RED.va"
   ],
   "metadata": {
    "collapsed": false
   }
  },
  {
   "cell_type": "code",
   "execution_count": null,
   "outputs": [],
   "source": [],
   "metadata": {
    "collapsed": false
   }
  },
  {
   "cell_type": "code",
   "execution_count": null,
   "outputs": [],
   "source": [],
   "metadata": {
    "collapsed": false
   }
  },
  {
   "cell_type": "markdown",
   "source": [
    "## datetime"
   ],
   "metadata": {
    "collapsed": false
   }
  },
  {
   "cell_type": "code",
   "execution_count": 93,
   "outputs": [],
   "source": [
    "import datetime"
   ],
   "metadata": {
    "collapsed": false
   }
  },
  {
   "cell_type": "code",
   "execution_count": 96,
   "outputs": [],
   "source": [
    "dt0 = datetime.time(hour=9, minute=30, second=0)"
   ],
   "metadata": {
    "collapsed": false
   }
  },
  {
   "cell_type": "code",
   "execution_count": 98,
   "outputs": [
    {
     "ename": "TypeError",
     "evalue": "unsupported operand type(s) for +: 'datetime.time' and 'datetime.timedelta'",
     "output_type": "error",
     "traceback": [
      "\u001B[0;31m---------------------------------------------------------------------------\u001B[0m",
      "\u001B[0;31mTypeError\u001B[0m                                 Traceback (most recent call last)",
      "\u001B[0;32m/var/folders/31/rx49cg9n64z7rn2vk4yd8d740000gn/T/ipykernel_95601/4224028958.py\u001B[0m in \u001B[0;36m<module>\u001B[0;34m\u001B[0m\n\u001B[0;32m----> 1\u001B[0;31m \u001B[0mdt0\u001B[0m \u001B[0;34m+\u001B[0m \u001B[0mdatetime\u001B[0m\u001B[0;34m.\u001B[0m\u001B[0mtimedelta\u001B[0m\u001B[0;34m(\u001B[0m\u001B[0mminutes\u001B[0m\u001B[0;34m=\u001B[0m\u001B[0;36m15\u001B[0m\u001B[0;34m)\u001B[0m\u001B[0;34m\u001B[0m\u001B[0;34m\u001B[0m\u001B[0m\n\u001B[0m",
      "\u001B[0;31mTypeError\u001B[0m: unsupported operand type(s) for +: 'datetime.time' and 'datetime.timedelta'"
     ]
    }
   ],
   "source": [
    "dt0 + datetime.timedelta(minutes=15)"
   ],
   "metadata": {
    "collapsed": false
   }
  },
  {
   "cell_type": "code",
   "execution_count": 102,
   "outputs": [
    {
     "data": {
      "text/plain": "['MAXYEAR',\n 'MINYEAR',\n '__all__',\n '__builtins__',\n '__cached__',\n '__doc__',\n '__file__',\n '__loader__',\n '__name__',\n '__package__',\n '__spec__',\n 'date',\n 'datetime',\n 'datetime_CAPI',\n 'sys',\n 'time',\n 'timedelta',\n 'timezone',\n 'tzinfo']"
     },
     "execution_count": 102,
     "metadata": {},
     "output_type": "execute_result"
    }
   ],
   "source": [
    "dir(datetime)"
   ],
   "metadata": {
    "collapsed": false
   }
  },
  {
   "cell_type": "code",
   "execution_count": 113,
   "outputs": [
    {
     "data": {
      "text/plain": "array([978307200000000000])"
     },
     "execution_count": 113,
     "metadata": {},
     "output_type": "execute_result"
    }
   ],
   "source": [
    "pd.Series(pd.Timestamp('20010101')).values.astype(np.int64)"
   ],
   "metadata": {
    "collapsed": false
   }
  },
  {
   "cell_type": "code",
   "execution_count": null,
   "outputs": [],
   "source": [],
   "metadata": {
    "collapsed": false
   }
  },
  {
   "cell_type": "code",
   "execution_count": 110,
   "outputs": [
    {
     "data": {
      "text/plain": "array([978307200000000000])"
     },
     "execution_count": 110,
     "metadata": {},
     "output_type": "execute_result"
    }
   ],
   "source": [
    "pd.Series(pd.Timestamp('20010101')).values.astype(np.int64)"
   ],
   "metadata": {
    "collapsed": false
   }
  },
  {
   "cell_type": "code",
   "execution_count": 114,
   "outputs": [],
   "source": [
    "from enum import IntEnum\n",
    "\n",
    "\n",
    "ORDER_STATUS = IntEnum(\n",
    "    \"ORDER_STATUS\",\n",
    "    [\n",
    "        \"OPEN\",\n",
    "        \"FILLED\",\n",
    "        \"CANCELLED\",\n",
    "        \"REJECTED\",\n",
    "        \"HELD\",\n",
    "    ],\n",
    "    start=0,\n",
    ")"
   ],
   "metadata": {
    "collapsed": false
   }
  },
  {
   "cell_type": "code",
   "execution_count": 122,
   "outputs": [
    {
     "ename": "ValueError",
     "evalue": "5 is not a valid ORDER_STATUS",
     "output_type": "error",
     "traceback": [
      "\u001B[0;31m---------------------------------------------------------------------------\u001B[0m",
      "\u001B[0;31mValueError\u001B[0m                                Traceback (most recent call last)",
      "\u001B[0;32m/var/folders/31/rx49cg9n64z7rn2vk4yd8d740000gn/T/ipykernel_95601/3050351067.py\u001B[0m in \u001B[0;36m<module>\u001B[0;34m\u001B[0m\n\u001B[0;32m----> 1\u001B[0;31m \u001B[0mORDER_STATUS\u001B[0m\u001B[0;34m(\u001B[0m\u001B[0;36m5\u001B[0m\u001B[0;34m)\u001B[0m\u001B[0;34m\u001B[0m\u001B[0;34m\u001B[0m\u001B[0m\n\u001B[0m",
      "\u001B[0;32m~/opt/anaconda3/lib/python3.9/enum.py\u001B[0m in \u001B[0;36m__call__\u001B[0;34m(cls, value, names, module, qualname, type, start)\u001B[0m\n\u001B[1;32m    382\u001B[0m         \"\"\"\n\u001B[1;32m    383\u001B[0m         \u001B[0;32mif\u001B[0m \u001B[0mnames\u001B[0m \u001B[0;32mis\u001B[0m \u001B[0;32mNone\u001B[0m\u001B[0;34m:\u001B[0m  \u001B[0;31m# simple value lookup\u001B[0m\u001B[0;34m\u001B[0m\u001B[0;34m\u001B[0m\u001B[0m\n\u001B[0;32m--> 384\u001B[0;31m             \u001B[0;32mreturn\u001B[0m \u001B[0mcls\u001B[0m\u001B[0;34m.\u001B[0m\u001B[0m__new__\u001B[0m\u001B[0;34m(\u001B[0m\u001B[0mcls\u001B[0m\u001B[0;34m,\u001B[0m \u001B[0mvalue\u001B[0m\u001B[0;34m)\u001B[0m\u001B[0;34m\u001B[0m\u001B[0;34m\u001B[0m\u001B[0m\n\u001B[0m\u001B[1;32m    385\u001B[0m         \u001B[0;31m# otherwise, functional API: we're creating a new Enum type\u001B[0m\u001B[0;34m\u001B[0m\u001B[0;34m\u001B[0m\u001B[0m\n\u001B[1;32m    386\u001B[0m         return cls._create_(\n",
      "\u001B[0;32m~/opt/anaconda3/lib/python3.9/enum.py\u001B[0m in \u001B[0;36m__new__\u001B[0;34m(cls, value)\u001B[0m\n\u001B[1;32m    700\u001B[0m                 \u001B[0mve_exc\u001B[0m \u001B[0;34m=\u001B[0m \u001B[0mValueError\u001B[0m\u001B[0;34m(\u001B[0m\u001B[0;34m\"%r is not a valid %s\"\u001B[0m \u001B[0;34m%\u001B[0m \u001B[0;34m(\u001B[0m\u001B[0mvalue\u001B[0m\u001B[0;34m,\u001B[0m \u001B[0mcls\u001B[0m\u001B[0;34m.\u001B[0m\u001B[0m__qualname__\u001B[0m\u001B[0;34m)\u001B[0m\u001B[0;34m)\u001B[0m\u001B[0;34m\u001B[0m\u001B[0;34m\u001B[0m\u001B[0m\n\u001B[1;32m    701\u001B[0m                 \u001B[0;32mif\u001B[0m \u001B[0mresult\u001B[0m \u001B[0;32mis\u001B[0m \u001B[0;32mNone\u001B[0m \u001B[0;32mand\u001B[0m \u001B[0mexc\u001B[0m \u001B[0;32mis\u001B[0m \u001B[0;32mNone\u001B[0m\u001B[0;34m:\u001B[0m\u001B[0;34m\u001B[0m\u001B[0;34m\u001B[0m\u001B[0m\n\u001B[0;32m--> 702\u001B[0;31m                     \u001B[0;32mraise\u001B[0m \u001B[0mve_exc\u001B[0m\u001B[0;34m\u001B[0m\u001B[0;34m\u001B[0m\u001B[0m\n\u001B[0m\u001B[1;32m    703\u001B[0m                 \u001B[0;32melif\u001B[0m \u001B[0mexc\u001B[0m \u001B[0;32mis\u001B[0m \u001B[0;32mNone\u001B[0m\u001B[0;34m:\u001B[0m\u001B[0;34m\u001B[0m\u001B[0;34m\u001B[0m\u001B[0m\n\u001B[1;32m    704\u001B[0m                     exc = TypeError(\n",
      "\u001B[0;31mValueError\u001B[0m: 5 is not a valid ORDER_STATUS"
     ]
    }
   ],
   "source": [
    "ORDER_STATUS(5)"
   ],
   "metadata": {
    "collapsed": false
   }
  },
  {
   "cell_type": "code",
   "execution_count": null,
   "outputs": [],
   "source": [],
   "metadata": {
    "collapsed": false
   }
  },
  {
   "cell_type": "code",
   "execution_count": null,
   "outputs": [],
   "source": [],
   "metadata": {
    "collapsed": false
   }
  },
  {
   "cell_type": "markdown",
   "source": [
    "## ExchangeCalendar"
   ],
   "metadata": {
    "collapsed": false
   }
  },
  {
   "cell_type": "code",
   "execution_count": 123,
   "outputs": [],
   "source": [
    "from pandas_market_calendars import get_calendar"
   ],
   "metadata": {
    "collapsed": false
   }
  },
  {
   "cell_type": "code",
   "execution_count": 124,
   "outputs": [],
   "source": [
    "calendar = get_calendar('SSE')"
   ],
   "metadata": {
    "collapsed": false
   }
  },
  {
   "cell_type": "code",
   "execution_count": 127,
   "outputs": [
    {
     "data": {
      "text/plain": "['__abstractmethods__',\n '__class__',\n '__delattr__',\n '__delitem__',\n '__dict__',\n '__dir__',\n '__doc__',\n '__eq__',\n '__format__',\n '__ge__',\n '__getattribute__',\n '__getitem__',\n '__gt__',\n '__hash__',\n '__init__',\n '__init_subclass__',\n '__le__',\n '__lt__',\n '__module__',\n '__ne__',\n '__new__',\n '__reduce__',\n '__reduce_ex__',\n '__repr__',\n '__setattr__',\n '__setitem__',\n '__sizeof__',\n '__str__',\n '__subclasshook__',\n '__weakref__',\n '_abc_impl',\n '_convert',\n '_customized_market_times',\n '_get_current_time',\n '_get_market_times',\n '_market_times',\n '_oc_market_times',\n '_off',\n '_prepare_regular_market_times',\n '_regmeta_class_registry',\n '_regular_market_timedeltas',\n '_set_time',\n '_special_dates',\n '_tdelta',\n '_tryholidays',\n 'add_time',\n 'adhoc_holidays',\n 'aliases',\n 'break_end',\n 'break_end_on',\n 'break_start',\n 'break_start_on',\n 'calendar_names',\n 'change_time',\n 'clean_dates',\n 'close_offset',\n 'close_time',\n 'close_time_on',\n 'days_at_time',\n 'discontinued_market_times',\n 'early_closes',\n 'factory',\n 'get_offset',\n 'get_special_times',\n 'get_special_times_adhoc',\n 'get_time',\n 'get_time_on',\n 'has_custom',\n 'has_discontinued',\n 'holidays',\n 'interruptions',\n 'interruptions_df',\n 'is_custom',\n 'is_different',\n 'is_discontinued',\n 'is_open_now',\n 'late_opens',\n 'market_times',\n 'name',\n 'open_at_time',\n 'open_close_map',\n 'open_offset',\n 'open_time',\n 'open_time_on',\n 'regular_holidays',\n 'regular_market_times',\n 'remove_time',\n 'schedule',\n 'special_closes',\n 'special_closes_adhoc',\n 'special_dates',\n 'special_market_close',\n 'special_market_close_adhoc',\n 'special_market_open',\n 'special_market_open_adhoc',\n 'special_opens',\n 'special_opens_adhoc',\n 'tz',\n 'valid_days',\n 'weekmask']"
     },
     "execution_count": 127,
     "metadata": {},
     "output_type": "execute_result"
    }
   ],
   "source": [
    "dir(calendar)"
   ],
   "metadata": {
    "collapsed": false
   }
  },
  {
   "cell_type": "code",
   "execution_count": 154,
   "outputs": [
    {
     "data": {
      "text/plain": "['market_open', 'break_start', 'break_end', 'market_close']"
     },
     "execution_count": 154,
     "metadata": {},
     "output_type": "execute_result"
    }
   ],
   "source": [
    "calendar.market_times"
   ],
   "metadata": {
    "collapsed": false
   }
  },
  {
   "cell_type": "code",
   "execution_count": 155,
   "outputs": [
    {
     "data": {
      "text/plain": "datetime.time(15, 0, tzinfo=<DstTzInfo 'Asia/Shanghai' LMT+8:06:00 STD>)"
     },
     "execution_count": 155,
     "metadata": {},
     "output_type": "execute_result"
    }
   ],
   "source": [
    "calendar.close_time"
   ],
   "metadata": {
    "collapsed": false
   }
  },
  {
   "cell_type": "code",
   "execution_count": 157,
   "outputs": [
    {
     "data": {
      "text/plain": "datetime.time(9, 30, tzinfo=<DstTzInfo 'Asia/Shanghai' LMT+8:06:00 STD>)"
     },
     "execution_count": 157,
     "metadata": {},
     "output_type": "execute_result"
    }
   ],
   "source": [
    "calendar.open_time"
   ],
   "metadata": {
    "collapsed": false
   }
  },
  {
   "cell_type": "code",
   "execution_count": null,
   "outputs": [],
   "source": [],
   "metadata": {
    "collapsed": false
   }
  },
  {
   "cell_type": "code",
   "execution_count": 142,
   "outputs": [
    {
     "data": {
      "text/plain": "DatetimeIndex(['2005-01-04', '2005-01-05', '2005-01-06', '2005-01-07',\n               '2005-01-10', '2005-01-11', '2005-01-12', '2005-01-13',\n               '2005-01-14', '2005-01-17',\n               ...\n               '2011-12-19', '2011-12-20', '2011-12-21', '2011-12-22',\n               '2011-12-23', '2011-12-26', '2011-12-27', '2011-12-28',\n               '2011-12-29', '2011-12-30'],\n              dtype='datetime64[ns]', length=1701, freq='C')"
     },
     "execution_count": 142,
     "metadata": {},
     "output_type": "execute_result"
    }
   ],
   "source": [
    "calendar.valid_days(start_date='2005-01-04', end_date='2012-01-01', tz=None)"
   ],
   "metadata": {
    "collapsed": false
   }
  },
  {
   "cell_type": "code",
   "execution_count": 130,
   "outputs": [],
   "source": [
    "calendar._prepare_regular_market_times()"
   ],
   "metadata": {
    "collapsed": false
   }
  },
  {
   "cell_type": "code",
   "execution_count": null,
   "outputs": [],
   "source": [],
   "metadata": {
    "collapsed": false
   }
  }
 ],
 "metadata": {
  "kernelspec": {
   "display_name": "Python 3",
   "language": "python",
   "name": "python3"
  },
  "language_info": {
   "codemirror_mode": {
    "name": "ipython",
    "version": 2
   },
   "file_extension": ".py",
   "mimetype": "text/x-python",
   "name": "python",
   "nbconvert_exporter": "python",
   "pygments_lexer": "ipython2",
   "version": "2.7.6"
  }
 },
 "nbformat": 4,
 "nbformat_minor": 0
}
